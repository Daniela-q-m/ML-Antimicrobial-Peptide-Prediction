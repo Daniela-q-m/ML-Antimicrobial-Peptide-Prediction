{
 "cells": [
  {
   "cell_type": "markdown",
   "id": "454fec79",
   "metadata": {},
   "source": [
    "### Predicting peptide antimicrobial properties (Machine Learning)"
   ]
  },
  {
   "cell_type": "code",
   "execution_count": 1,
   "id": "ae11c222",
   "metadata": {},
   "outputs": [
    {
     "name": "stdout",
     "output_type": "stream",
     "text": [
      "--2022-01-23 19:03:11--  https://repo.anaconda.com/miniconda/Miniconda3-py37_4.8.2-Linux-x86_64.sh\n",
      "Resolving repo.anaconda.com (repo.anaconda.com)... 2606:4700::6810:8203, 2606:4700::6810:8303, 104.16.130.3, ...\n",
      "Connecting to repo.anaconda.com (repo.anaconda.com)|2606:4700::6810:8203|:443... connected.\n",
      "HTTP request sent, awaiting response... 200 OK\n",
      "Length: 85055499 (81M) [application/x-sh]\n",
      "Saving to: ‘Miniconda3-py37_4.8.2-Linux-x86_64.sh.3’\n",
      "\n",
      "Miniconda3-py37_4.8 100%[===================>]  81.12M  26.7MB/s    in 3.0s    \n",
      "\n",
      "2022-01-23 19:03:14 (26.7 MB/s) - ‘Miniconda3-py37_4.8.2-Linux-x86_64.sh.3’ saved [85055499/85055499]\n",
      "\n",
      "PREFIX=/usr/local\n",
      "./Miniconda3-py37_4.8.2-Linux-x86_64.sh: line 370: md5sum: command not found\n",
      "tail: stdout: Broken pipe\n",
      "WARNING: md5sum mismatch of tar archive\n",
      "expected: 6e267728e74a7089e59c7d8c59d20e6b\n",
      "     got: \n",
      "./Miniconda3-py37_4.8.2-Linux-x86_64.sh: line 392: /usr/local/conda.exe: Permission denied\n",
      "chmod: /usr/local/conda.exe: No such file or directory\n",
      "Unpacking payload ...\n",
      "./Miniconda3-py37_4.8.2-Linux-x86_64.sh: line 404: /usr/local/conda.exe: No such file or directory\n",
      "./Miniconda3-py37_4.8.2-Linux-x86_64.sh: line 406: /usr/local/conda.exe: No such file or directory\n"
     ]
    }
   ],
   "source": [
    "#Installed wget using homebrew through terminal with: $ brew install wget\n",
    "#Install Anaconda\n",
    "! wget https://repo.anaconda.com/miniconda/Miniconda3-py37_4.8.2-Linux-x86_64.sh\n",
    "! chmod +x Miniconda3-py37_4.8.2-Linux-x86_64.sh\n",
    "! bash ./Miniconda3-py37_4.8.2-Linux-x86_64.sh -b -f -p /usr/local\n",
    "import sys\n",
    "sys.path.append('/usr/local/lib/python3.7/site-packages/')\n"
   ]
  },
  {
   "cell_type": "code",
   "execution_count": 9,
   "id": "14249b96",
   "metadata": {},
   "outputs": [
    {
     "name": "stdout",
     "output_type": "stream",
     "text": [
      "--2022-01-23 19:05:17--  https://github.com/raghavagps/Pfeature/raw/master/PyLib/Pfeature.zip\n",
      "Resolving github.com (github.com)... 140.82.114.3\n",
      "Connecting to github.com (github.com)|140.82.114.3|:443... connected.\n",
      "HTTP request sent, awaiting response... 302 Found\n",
      "Location: https://raw.githubusercontent.com/raghavagps/Pfeature/master/PyLib/Pfeature.zip [following]\n",
      "--2022-01-23 19:05:17--  https://raw.githubusercontent.com/raghavagps/Pfeature/master/PyLib/Pfeature.zip\n",
      "Resolving raw.githubusercontent.com (raw.githubusercontent.com)... 2606:50c0:8002::154, 2606:50c0:8001::154, 2606:50c0:8003::154, ...\n",
      "Connecting to raw.githubusercontent.com (raw.githubusercontent.com)|2606:50c0:8002::154|:443... connected.\n",
      "HTTP request sent, awaiting response... 200 OK\n",
      "Length: 511222 (499K) [application/zip]\n",
      "Saving to: ‘Pfeature.zip’\n",
      "\n",
      "Pfeature.zip        100%[===================>] 499.24K  --.-KB/s    in 0.1s    \n",
      "\n",
      "2022-01-23 19:05:18 (3.81 MB/s) - ‘Pfeature.zip’ saved [511222/511222]\n",
      "\n"
     ]
    }
   ],
   "source": [
    "#Download pfeature, MANUAL: https://webs.iiitd.edu.in/raghava/pfeature/Pfeature_Manual.pdf\n",
    "#Pfeature used to later compute molecular characteristics\n",
    "! wget https://github.com/raghavagps/Pfeature/raw/master/PyLib/Pfeature.zip\n",
    "    \n"
   ]
  },
  {
   "cell_type": "code",
   "execution_count": 19,
   "id": "dc3ed262",
   "metadata": {},
   "outputs": [
    {
     "name": "stdout",
     "output_type": "stream",
     "text": [
      "Archive:  Pfeature.zip\n",
      "  inflating: Pfeature/PKG-INFO       \n",
      "  inflating: Pfeature/.DS_Store      \n",
      "  inflating: Pfeature/README         \n",
      "  inflating: Pfeature/setup.py       \n",
      "  inflating: Pfeature/Functions_Tables.pdf  \n",
      "   creating: Pfeature/build/\n",
      "  inflating: Pfeature/Pfeature_Descriptors.pdf  \n",
      "   creating: Pfeature/Pfeature/\n",
      "   creating: Pfeature/build/lib/\n",
      "  inflating: Pfeature/Pfeature/bonds.csv  \n",
      "  inflating: Pfeature/Pfeature/pfeature.py  \n",
      "  inflating: Pfeature/Pfeature/AAIndexNames.csv  \n",
      "  inflating: Pfeature/Pfeature/aaindices.csv  \n",
      "  inflating: Pfeature/Pfeature/atom.csv  \n",
      "  inflating: Pfeature/Pfeature/PhysicoChemical.csv  \n",
      "  inflating: Pfeature/Pfeature/__init__.py  \n",
      "  inflating: Pfeature/Pfeature/z_aaindex.csv  \n",
      "  inflating: Pfeature/Pfeature/aaindex.csv  \n",
      "  inflating: Pfeature/Pfeature/bin_di.csv  \n",
      "  inflating: Pfeature/Pfeature/Grantham.csv  \n",
      "  inflating: Pfeature/Pfeature/can_pat.csv  \n",
      "  inflating: Pfeature/Pfeature/aa_attr_group.csv  \n",
      "  inflating: Pfeature/Pfeature/Schneider-Wrede.csv  \n",
      "  inflating: Pfeature/Pfeature/data  \n",
      "  inflating: Pfeature/Pfeature/aaind.txt  \n",
      "   creating: Pfeature/build/lib/Pfeature/\n",
      "  inflating: Pfeature/build/lib/Pfeature/bonds.csv  \n",
      "  inflating: Pfeature/build/lib/Pfeature/pfeature.py  \n",
      "  inflating: Pfeature/build/lib/Pfeature/AAIndexNames.csv  \n",
      "  inflating: Pfeature/build/lib/Pfeature/aaindices.csv  \n",
      "  inflating: Pfeature/build/lib/Pfeature/atom.csv  \n",
      "  inflating: Pfeature/build/lib/Pfeature/PhysicoChemical.csv  \n",
      "  inflating: Pfeature/build/lib/Pfeature/__init__.py  \n",
      "  inflating: Pfeature/build/lib/Pfeature/z_aaindex.csv  \n",
      "  inflating: Pfeature/build/lib/Pfeature/aaindex.csv  \n",
      "  inflating: Pfeature/build/lib/Pfeature/bin_di.csv  \n",
      "  inflating: Pfeature/build/lib/Pfeature/Grantham.csv  \n",
      "  inflating: Pfeature/build/lib/Pfeature/can_pat.csv  \n",
      "  inflating: Pfeature/build/lib/Pfeature/aa_attr_group.csv  \n",
      "  inflating: Pfeature/build/lib/Pfeature/Schneider-Wrede.csv  \n",
      "  inflating: Pfeature/build/lib/Pfeature/data  \n",
      "  inflating: Pfeature/build/lib/Pfeature/aaind.txt  \n"
     ]
    }
   ],
   "source": [
    "#- n do not overwrite existing files \n",
    "! unzip -n Pfeature.zip \n"
   ]
  },
  {
   "cell_type": "code",
   "execution_count": 22,
   "id": "18b28890",
   "metadata": {},
   "outputs": [
    {
     "name": "stdout",
     "output_type": "stream",
     "text": [
      "/Users/danielaquijano/Documents/GitHub/Peptide Prediction-Machine Learning-R/Pfeature\n"
     ]
    }
   ],
   "source": [
    "cd Pfeature"
   ]
  },
  {
   "cell_type": "code",
   "execution_count": 23,
   "id": "50fa67b9",
   "metadata": {},
   "outputs": [
    {
     "name": "stdout",
     "output_type": "stream",
     "text": [
      "/Users/danielaquijano/opt/anaconda3/lib/python3.8/distutils/dist.py:274: UserWarning: Unknown distribution option: 'zip_safe'\n",
      "  warnings.warn(msg)\n",
      "running install\n",
      "running build\n",
      "running build_py\n",
      "copying Pfeature/pfeature.py -> build/lib/Pfeature\n",
      "copying Pfeature/__init__.py -> build/lib/Pfeature\n",
      "error: can't copy 'Pfeature/r.failurerequests': doesn't exist or not a regular file\n"
     ]
    }
   ],
   "source": [
    "! python setup.py install"
   ]
  },
  {
   "cell_type": "code",
   "execution_count": 24,
   "id": "b5e00d77",
   "metadata": {},
   "outputs": [
    {
     "name": "stdout",
     "output_type": "stream",
     "text": [
      "Collecting package metadata (current_repodata.json): done\n",
      "Solving environment: done\n",
      "\n",
      "## Package Plan ##\n",
      "\n",
      "  environment location: /Users/danielaquijano/opt/anaconda3\n",
      "\n",
      "  added / updated specs:\n",
      "    - cd-hit\n",
      "\n",
      "\n",
      "The following packages will be downloaded:\n",
      "\n",
      "    package                    |            build\n",
      "    ---------------------------|-----------------\n",
      "    cd-hit-4.8.1               |       hd9629dc_0         183 KB  bioconda\n",
      "    ------------------------------------------------------------\n",
      "                                           Total:         183 KB\n",
      "\n",
      "The following NEW packages will be INSTALLED:\n",
      "\n",
      "  cd-hit             bioconda/osx-64::cd-hit-4.8.1-hd9629dc_0\n",
      "\n",
      "\n",
      "\n",
      "Downloading and Extracting Packages\n",
      "cd-hit-4.8.1         | 183 KB    | ##################################### | 100% \n",
      "Preparing transaction: done\n",
      "Verifying transaction: done\n",
      "Executing transaction: done\n"
     ]
    }
   ],
   "source": [
    "#Install cd HIT: Will be used in order to remove duplicates in the data\n",
    "! conda install -c bioconda cd-hit -y"
   ]
  },
  {
   "cell_type": "code",
   "execution_count": null,
   "id": "5628470a",
   "metadata": {},
   "outputs": [],
   "source": []
  }
 ],
 "metadata": {
  "kernelspec": {
   "display_name": "Python 3 (ipykernel)",
   "language": "python",
   "name": "python3"
  },
  "language_info": {
   "codemirror_mode": {
    "name": "ipython",
    "version": 3
   },
   "file_extension": ".py",
   "mimetype": "text/x-python",
   "name": "python",
   "nbconvert_exporter": "python",
   "pygments_lexer": "ipython3",
   "version": "3.8.8"
  }
 },
 "nbformat": 4,
 "nbformat_minor": 5
}
